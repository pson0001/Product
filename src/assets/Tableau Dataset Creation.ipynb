{
 "cells": [
  {
   "cell_type": "code",
   "execution_count": 4,
   "id": "b2c39745-d56a-4347-807f-ea870dab4d52",
   "metadata": {},
   "outputs": [],
   "source": [
    "import pandas as pd\n",
    "import numpy as np\n",
    "import matplotlib.pyplot as plt\n",
    "%matplotlib inline\n",
    "plt.rcParams['figure.figsize'] = [20, 10]\n",
    "from datetime import date, timedelta"
   ]
  },
  {
   "cell_type": "markdown",
   "id": "1ff449f9",
   "metadata": {},
   "source": [
    "##### error plot\n",
    "\n",
    "looking to produce linearly equal spaced predictions for a constant and plot out the error "
   ]
  },
  {
   "cell_type": "code",
   "execution_count": 5,
   "id": "7e7f30de-8500-46ce-ae71-3bbee5f03123",
   "metadata": {},
   "outputs": [
    {
     "data": {
      "image/png": "[encoded data removed]",
      "text/plain": [
       "<Figure size 1440x720 with 1 Axes>"
      ]
     },
     "metadata": {
      "needs_background": "light"
     },
     "output_type": "display_data"
    }
   ],
   "source": [
    "y = 100\n",
    "x = np.linspace(0,200,1000)\n",
    "error = [np.sqrt(np.square(np.log(i + 1) - np.log(y +1))) for i in x]\n",
    "plt.plot(x,error)\n",
    "plt.show()"
   ]
  },
  {
   "cell_type": "markdown",
   "id": "a62a47a0",
   "metadata": {},
   "source": [
    "##### creating datasets for tableau"
   ]
  },
  {
   "cell_type": "code",
   "execution_count": 12,
   "id": "53734bd4-0473-4efb-b9ed-43e8f5481047",
   "metadata": {},
   "outputs": [],
   "source": [
    "# holiday = pd.read_csv(\"../kaggle_favorita-grocery-sales/data/holidays_events.csv\")\n",
    "# items = pd.read_csv(\"../kaggle_favorita-grocery-sales/data/items.csv\")\n",
    "# oil = pd.read_csv(\"../kaggle_favorita-grocery-sales/data/oil.csv\")\n",
    "# sample_sub = pd.read_csv(\"../kaggle_favorita-grocery-sales/data/sample_submission.csv\")\n",
    "stores = pd.read_csv(\"../kaggle_favorita-grocery-sales/data/stores.csv\")\n",
    "# test = pd.read_csv(\"../kaggle_favorita-grocery-sales/data/test.csv\")\n",
    "# train = pd.read_csv(\"../kaggle_favorita-grocery-sales/data/train.csv\")\n",
    "# transactions = pd.read_csv(\"../kaggle_favorita-grocery-sales/data/transactions.csv\")\n",
    "\n",
    "df_train = pd.read_csv(\n",
    "    \"../kaggle_favorita-grocery-sales/data/train.csv\", usecols=[1, 2, 3, 4, 5],\n",
    "    #dtype={'onpromotion': bool},\n",
    "    converters={'unit_sales': lambda u: np.log1p(\n",
    "        float(u)) if float(u) > 0 else 0},\n",
    "    parse_dates=[\"date\"],\n",
    "    skiprows=range(1, 66458909)  # 2016-01-01\n",
    ")\n",
    "\n",
    "# df_test = pd.read_csv(\n",
    "#     \"../kaggle_favorita-grocery-sales/data/test.csv\", usecols=[0, 1, 2, 3, 4],\n",
    "#     dtype={'onpromotion': bool},\n",
    "#     parse_dates=[\"date\"]  # , date_parser=parser\n",
    "# ).set_index(\n",
    "#     ['store_nbr', 'item_nbr', 'date']\n",
    "# )\n",
    "\n",
    "items = pd.read_csv(\n",
    "    \"../kaggle_favorita-grocery-sales/data/items.csv\",\n",
    ").set_index(\"item_nbr\")"
   ]
  },
  {
   "cell_type": "code",
   "execution_count": 13,
   "id": "43891a7d",
   "metadata": {
    "scrolled": true
   },
   "outputs": [],
   "source": [
    "df_train = df_train.drop(['date', 'onpromotion'], axis = 1)\n",
    "df_train = pd.merge(df_train, stores) # merge with store data\n",
    "df_train = df_train.drop(['type', 'cluster'], axis = 1)\n",
    "items = items.reset_index() # drop index\n",
    "df_train = pd.merge(df_train, items.reset_index())\n",
    "df_train = df_train.drop(['perishable', 'class'], axis = 1)"
   ]
  },
  {
   "cell_type": "code",
   "execution_count": 15,
   "id": "bcd0d1ee",
   "metadata": {},
   "outputs": [],
   "source": [
    "df_train = df_train.groupby(['store_nbr', 'item_nbr']).median().reset_index().drop(['index'], axis = 1)"
   ]
  },
  {
   "cell_type": "code",
   "execution_count": 17,
   "id": "9a5eb8a9",
   "metadata": {},
   "outputs": [
    {
     "data": {
      "text/html": [
       "<div>\n",
       "<style scoped>\n",
       "    .dataframe tbody tr th:only-of-type {\n",
       "        vertical-align: middle;\n",
       "    }\n",
       "\n",
       "    .dataframe tbody tr th {\n",
       "        vertical-align: top;\n",
       "    }\n",
       "\n",
       "    .dataframe thead th {\n",
       "        text-align: right;\n",
       "    }\n",
       "</style>\n",
       "<table border=\"1\" class=\"dataframe\">\n",
       "  <thead>\n",
       "    <tr style=\"text-align: right;\">\n",
       "      <th></th>\n",
       "      <th>store_nbr</th>\n",
       "      <th>item_nbr</th>\n",
       "      <th>unit_sales</th>\n",
       "      <th>city</th>\n",
       "      <th>state</th>\n",
       "      <th>type</th>\n",
       "      <th>cluster</th>\n",
       "      <th>family</th>\n",
       "      <th>class</th>\n",
       "      <th>perishable</th>\n",
       "    </tr>\n",
       "  </thead>\n",
       "  <tbody>\n",
       "    <tr>\n",
       "      <th>0</th>\n",
       "      <td>1</td>\n",
       "      <td>96995</td>\n",
       "      <td>0.693147</td>\n",
       "      <td>Quito</td>\n",
       "      <td>Pichincha</td>\n",
       "      <td>D</td>\n",
       "      <td>13</td>\n",
       "      <td>GROCERY I</td>\n",
       "      <td>1093</td>\n",
       "      <td>0</td>\n",
       "    </tr>\n",
       "    <tr>\n",
       "      <th>1</th>\n",
       "      <td>2</td>\n",
       "      <td>96995</td>\n",
       "      <td>0.693147</td>\n",
       "      <td>Quito</td>\n",
       "      <td>Pichincha</td>\n",
       "      <td>D</td>\n",
       "      <td>13</td>\n",
       "      <td>GROCERY I</td>\n",
       "      <td>1093</td>\n",
       "      <td>0</td>\n",
       "    </tr>\n",
       "    <tr>\n",
       "      <th>2</th>\n",
       "      <td>3</td>\n",
       "      <td>96995</td>\n",
       "      <td>0.693147</td>\n",
       "      <td>Quito</td>\n",
       "      <td>Pichincha</td>\n",
       "      <td>D</td>\n",
       "      <td>8</td>\n",
       "      <td>GROCERY I</td>\n",
       "      <td>1093</td>\n",
       "      <td>0</td>\n",
       "    </tr>\n",
       "    <tr>\n",
       "      <th>3</th>\n",
       "      <td>4</td>\n",
       "      <td>96995</td>\n",
       "      <td>0.693147</td>\n",
       "      <td>Quito</td>\n",
       "      <td>Pichincha</td>\n",
       "      <td>D</td>\n",
       "      <td>9</td>\n",
       "      <td>GROCERY I</td>\n",
       "      <td>1093</td>\n",
       "      <td>0</td>\n",
       "    </tr>\n",
       "    <tr>\n",
       "      <th>4</th>\n",
       "      <td>5</td>\n",
       "      <td>96995</td>\n",
       "      <td>0.693147</td>\n",
       "      <td>Santo Domingo</td>\n",
       "      <td>Santo Domingo de los Tsachilas</td>\n",
       "      <td>D</td>\n",
       "      <td>4</td>\n",
       "      <td>GROCERY I</td>\n",
       "      <td>1093</td>\n",
       "      <td>0</td>\n",
       "    </tr>\n",
       "  </tbody>\n",
       "</table>\n",
       "</div>"
      ],
      "text/plain": [
       "   store_nbr  item_nbr  unit_sales           city  \\\n",
       "0          1     96995    0.693147          Quito   \n",
       "1          2     96995    0.693147          Quito   \n",
       "2          3     96995    0.693147          Quito   \n",
       "3          4     96995    0.693147          Quito   \n",
       "4          5     96995    0.693147  Santo Domingo   \n",
       "\n",
       "                            state type  cluster     family  class  perishable  \n",
       "0                       Pichincha    D       13  GROCERY I   1093           0  \n",
       "1                       Pichincha    D       13  GROCERY I   1093           0  \n",
       "2                       Pichincha    D        8  GROCERY I   1093           0  \n",
       "3                       Pichincha    D        9  GROCERY I   1093           0  \n",
       "4  Santo Domingo de los Tsachilas    D        4  GROCERY I   1093           0  "
      ]
     },
     "execution_count": 17,
     "metadata": {},
     "output_type": "execute_result"
    }
   ],
   "source": [
    "pd.merge(pd.merge(df_train, stores), items).head() # geospatial by family by median sales"
   ]
  },
  {
   "cell_type": "code",
   "execution_count": null,
   "id": "160f050a",
   "metadata": {},
   "outputs": [],
   "source": []
  },
  {
   "cell_type": "markdown",
   "id": "ef8c4d39",
   "metadata": {},
   "source": [
    "##### Median Log Promotion Sales vs Median Log Non-Promotion Sales Dataframe by class"
   ]
  },
  {
   "cell_type": "code",
   "execution_count": 18,
   "id": "3f8f0ae8",
   "metadata": {},
   "outputs": [],
   "source": [
    "df_train = pd.read_csv(\n",
    "    \"../kaggle_favorita-grocery-sales/data/train.csv\", usecols=[1, 2, 3, 4, 5],\n",
    "    #dtype={'onpromotion': bool},\n",
    "    converters={'unit_sales': lambda u: np.log1p(\n",
    "        float(u)) if float(u) > 0 else 0},\n",
    "    parse_dates=[\"date\"],\n",
    "    skiprows=range(1, 66458909)  # 2016-01-01\n",
    ")\n",
    "\n",
    "items = pd.read_csv(\n",
    "    \"../kaggle_favorita-grocery-sales/data/items.csv\",\n",
    ").set_index(\"item_nbr\")"
   ]
  },
  {
   "cell_type": "code",
   "execution_count": 19,
   "id": "4755707f",
   "metadata": {},
   "outputs": [],
   "source": [
    "df_promo = df_train[df_train.onpromotion == True]\n",
    "df_no_promo = df_train[df_train.onpromotion == False]\n",
    "df_promo = df_promo.groupby(['item_nbr']).median().reset_index()\n",
    "df_no_promo = df_no_promo.groupby(['item_nbr']).median().reset_index()\n",
    "df_promo = df_promo[['item_nbr', 'unit_sales']]\n",
    "df_no_promo = df_no_promo[['item_nbr', 'unit_sales']]\n",
    "df_promo.columns = ['item_nbr', 'promo_median_sales_log']\n",
    "df_no_promo.columns = ['item_nbr', 'no_promo_median_sales_log']\n",
    "p = pd.merge(df_promo, df_no_promo)\n",
    "p =  pd.merge(items.reset_index(), p)"
   ]
  },
  {
   "cell_type": "code",
   "execution_count": 20,
   "id": "fac0dfa7",
   "metadata": {},
   "outputs": [
    {
     "data": {
      "text/html": [
       "<div>\n",
       "<style scoped>\n",
       "    .dataframe tbody tr th:only-of-type {\n",
       "        vertical-align: middle;\n",
       "    }\n",
       "\n",
       "    .dataframe tbody tr th {\n",
       "        vertical-align: top;\n",
       "    }\n",
       "\n",
       "    .dataframe thead th {\n",
       "        text-align: right;\n",
       "    }\n",
       "</style>\n",
       "<table border=\"1\" class=\"dataframe\">\n",
       "  <thead>\n",
       "    <tr style=\"text-align: right;\">\n",
       "      <th></th>\n",
       "      <th>item_nbr</th>\n",
       "      <th>family</th>\n",
       "      <th>class</th>\n",
       "      <th>perishable</th>\n",
       "      <th>promo_median_sales_log</th>\n",
       "      <th>no_promo_median_sales_log</th>\n",
       "    </tr>\n",
       "  </thead>\n",
       "  <tbody>\n",
       "    <tr>\n",
       "      <th>0</th>\n",
       "      <td>99197</td>\n",
       "      <td>GROCERY I</td>\n",
       "      <td>1067</td>\n",
       "      <td>0</td>\n",
       "      <td>0.693147</td>\n",
       "      <td>1.098612</td>\n",
       "    </tr>\n",
       "    <tr>\n",
       "      <th>1</th>\n",
       "      <td>103501</td>\n",
       "      <td>CLEANING</td>\n",
       "      <td>3008</td>\n",
       "      <td>0</td>\n",
       "      <td>1.609438</td>\n",
       "      <td>1.609438</td>\n",
       "    </tr>\n",
       "    <tr>\n",
       "      <th>2</th>\n",
       "      <td>103520</td>\n",
       "      <td>GROCERY I</td>\n",
       "      <td>1028</td>\n",
       "      <td>0</td>\n",
       "      <td>1.791759</td>\n",
       "      <td>1.098612</td>\n",
       "    </tr>\n",
       "    <tr>\n",
       "      <th>3</th>\n",
       "      <td>103665</td>\n",
       "      <td>BREAD/BAKERY</td>\n",
       "      <td>2712</td>\n",
       "      <td>1</td>\n",
       "      <td>1.386294</td>\n",
       "      <td>1.386294</td>\n",
       "    </tr>\n",
       "    <tr>\n",
       "      <th>4</th>\n",
       "      <td>105574</td>\n",
       "      <td>GROCERY I</td>\n",
       "      <td>1045</td>\n",
       "      <td>0</td>\n",
       "      <td>2.484907</td>\n",
       "      <td>2.302585</td>\n",
       "    </tr>\n",
       "  </tbody>\n",
       "</table>\n",
       "</div>"
      ],
      "text/plain": [
       "   item_nbr        family  class  perishable  promo_median_sales_log  \\\n",
       "0     99197     GROCERY I   1067           0                0.693147   \n",
       "1    103501      CLEANING   3008           0                1.609438   \n",
       "2    103520     GROCERY I   1028           0                1.791759   \n",
       "3    103665  BREAD/BAKERY   2712           1                1.386294   \n",
       "4    105574     GROCERY I   1045           0                2.484907   \n",
       "\n",
       "   no_promo_median_sales_log  \n",
       "0                   1.098612  \n",
       "1                   1.609438  \n",
       "2                   1.098612  \n",
       "3                   1.386294  \n",
       "4                   2.302585  "
      ]
     },
     "execution_count": 20,
     "metadata": {},
     "output_type": "execute_result"
    }
   ],
   "source": [
    "p.head()"
   ]
  }
 ],
 "metadata": {
  "kernelspec": {
   "display_name": "Python 3.8 (rabbit)",
   "language": "python",
   "name": "rabbit"
  },
  "language_info": {
   "codemirror_mode": {
    "name": "ipython",
    "version": 3
   },
   "file_extension": ".py",
   "mimetype": "text/x-python",
   "name": "python",
   "nbconvert_exporter": "python",
   "pygments_lexer": "ipython3",
   "version": "3.8.11"
  }
 },
 "nbformat": 4,
 "nbformat_minor": 5
}
